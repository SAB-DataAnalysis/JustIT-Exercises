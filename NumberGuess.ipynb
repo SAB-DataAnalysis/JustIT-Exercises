{
  "nbformat": 4,
  "nbformat_minor": 0,
  "metadata": {
    "colab": {
      "provenance": [],
      "authorship_tag": "ABX9TyMsrAW+tG/lyiox9f7Bzzpo",
      "include_colab_link": true
    },
    "kernelspec": {
      "name": "python3",
      "display_name": "Python 3"
    },
    "language_info": {
      "name": "python"
    }
  },
  "cells": [
    {
      "cell_type": "markdown",
      "metadata": {
        "id": "view-in-github",
        "colab_type": "text"
      },
      "source": [
        "<a href=\"https://colab.research.google.com/github/SAB-DataAnalysis/JustIT-Exercises/blob/main/NumberGuess.ipynb\" target=\"_parent\"><img src=\"https://colab.research.google.com/assets/colab-badge.svg\" alt=\"Open In Colab\"/></a>"
      ]
    },
    {
      "cell_type": "code",
      "execution_count": null,
      "metadata": {
        "colab": {
          "base_uri": "https://localhost:8080/"
        },
        "id": "AuMoF0Cv4LlN",
        "outputId": "fba4b142-6834-4737-b98c-95617a974faf"
      },
      "outputs": [
        {
          "output_type": "stream",
          "name": "stdout",
          "text": [
            "0\n",
            "2\n",
            "4\n",
            "6\n",
            "8\n",
            "10\n",
            "12\n",
            "14\n",
            "16\n",
            "18\n",
            "20\n",
            "22\n",
            "24\n",
            "26\n",
            "28\n",
            "30\n",
            "32\n",
            "34\n",
            "36\n",
            "38\n",
            "40\n",
            "42\n",
            "44\n",
            "46\n",
            "48\n",
            "50\n",
            "52\n",
            "54\n",
            "56\n",
            "58\n",
            "60\n",
            "62\n",
            "64\n",
            "66\n",
            "68\n",
            "70\n",
            "72\n",
            "74\n",
            "76\n",
            "78\n",
            "80\n",
            "82\n",
            "84\n",
            "86\n",
            "88\n",
            "90\n",
            "92\n",
            "94\n",
            "96\n",
            "98\n",
            "100\n"
          ]
        }
      ],
      "source": [
        "for number in range(0, 101, 2):\n",
        "    print(number)"
      ]
    },
    {
      "cell_type": "code",
      "source": [
        "import random\n",
        "random_number = random.randint(10, 99)\n",
        "\n",
        "guess_number = int(input(\"guess the number between 10 and 99 here:\",))\n",
        "\n",
        "if random_number > guess_number:\n",
        "  print(\"Little less!\")\n",
        "elif random_number < guess_number:\n",
        "  print(\"Little more!\")\n",
        "elif random_number == guess_number:\n",
        "  print(\"You did it!!\")\n",
        "elif guess_number == 42:\n",
        "  print(\"And now you know the meaning of life :)\")\n",
        "elif guess_number == 420:\n",
        "  print(\"And now you know the smoker's meaning of life :)\")\n",
        "elif guess_number == 69:\n",
        "  print(\"Naughty naughty~ :)\")\n",
        "\n",
        "if random_number == guess_number:\n",
        "  print(random_number)"
      ],
      "metadata": {
        "colab": {
          "base_uri": "https://localhost:8080/"
        },
        "id": "JSGEB5m_ClYR",
        "outputId": "2e2b1231-ed59-4f7a-ee0a-c447ebbb6fdf"
      },
      "execution_count": null,
      "outputs": [
        {
          "output_type": "stream",
          "name": "stdout",
          "text": [
            "guess the number between 10 and 99 here:34\n",
            "Little less!\n"
          ]
        }
      ]
    },
    {
      "cell_type": "code",
      "source": [
        "import random\n",
        "random.randint(10,99)\n",
        "\n",
        "guess_number = int(input(\"guess the number between 10 and 99 here:\",))\n",
        "\n",
        "if guess_number == random_number:\n",
        "    print(\"Congratulations! You guessed the correct number.\")\n",
        "else:\n",
        "    print(f\"Sorry, the correct number was {random_number}. Try again!\")"
      ],
      "metadata": {
        "colab": {
          "base_uri": "https://localhost:8080/"
        },
        "id": "tLuzDUz0FEzP",
        "outputId": "4a9a6f03-95f7-4585-c29b-aa4f964839c2"
      },
      "execution_count": null,
      "outputs": [
        {
          "output_type": "stream",
          "name": "stdout",
          "text": [
            "guess the number between 10 and 99 here: 5\n",
            "Sorry, the correct number was 34. Try again!\n"
          ]
        }
      ]
    },
    {
      "cell_type": "code",
      "source": [
        "import random\n",
        "random_number = random.randint(10, 99)\n",
        "user_guess = 0\n",
        "\n",
        "while user_guess != random_number:\n",
        "  user_guess = int(input(\"Guess the number between 10 and 99: \",))\n",
        "\n",
        "if random_number > 99:\n",
        "  print(\"Little less!\")\n",
        "elif random_number == user_guess:\n",
        "  print(\"You did it!!\")\n",
        "  print(random_number)\n",
        "elif random_number > 99:\n",
        "  print(\"Little more!\")"
      ],
      "metadata": {
        "colab": {
          "base_uri": "https://localhost:8080/"
        },
        "id": "S-YZhAlSHZAQ",
        "outputId": "8aab92e1-9a1c-4159-e4ae-ae8ee1793978"
      },
      "execution_count": null,
      "outputs": [
        {
          "name": "stdout",
          "output_type": "stream",
          "text": [
            "Guess the number between 10 and 99: 90\n"
          ]
        }
      ]
    },
    {
      "cell_type": "code",
      "source": [
        "import random\n",
        "\n",
        "random_number = random.randint(10, 99)\n",
        "user_guess = 0\n",
        "\n",
        "while user_guess != random_number:\n",
        "    user_guess = int(input(\"Guess the number between 10 and 99: \"))\n",
        "\n",
        "    if user_guess < random_number:\n",
        "        print(\"Little more!\")\n",
        "    elif user_guess > random_number:\n",
        "        print(\"Little less!\")\n",
        "\n",
        "print(\"You did it!!\")\n",
        "print(f\"The correct number was: {random_number}\")"
      ],
      "metadata": {
        "id": "m4npc0mmJ0A2"
      },
      "execution_count": null,
      "outputs": []
    }
  ]
}